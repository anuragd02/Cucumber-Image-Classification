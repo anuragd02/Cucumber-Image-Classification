{
 "cells": [
  {
   "cell_type": "code",
   "execution_count": 1,
   "id": "d9dea67a-f7bc-48cb-a13b-e48a60064948",
   "metadata": {},
   "outputs": [
    {
     "name": "stdout",
     "output_type": "stream",
     "text": [
      "Found 922 images belonging to 2 classes.\n"
     ]
    }
   ],
   "source": [
    "import os\n",
    "import numpy as np\n",
    "from sklearn.model_selection import train_test_split\n",
    "from tensorflow.keras.preprocessing.image import ImageDataGenerator\n",
    "\n",
    "# Define the directory\n",
    "dataset_dir = 'D:/AI Algorithm/cucumber'\n",
    "\n",
    "# Split data\n",
    "train_data_gen = ImageDataGenerator(\n",
    "    rescale=1.0/255,\n",
    "    validation_split=0.2  # 20% for validation\n",
    ")\n",
    "\n",
    "# Training data\n",
    "train_data = train_data_gen.flow_from_directory(\n",
    "    dataset_dir,\n",
    "    target_size=(224, 224),\n",
    "    batch_size=32,\n",
    "    class_mode='categorical',\n",
    "    subset='training'\n",
    ")\n",
    "\n",
    "# Validation and Test data\n",
    "val_data_gen = ImageDataGenerator(rescale=1.0/255)\n",
    "val_data, test_data = train_test_split(\n",
    "    list(range(train_data.n)),\n",
    "    test_size=0.5,\n",
    "    random_state=42\n",
    ")\n"
   ]
  },
  {
   "cell_type": "code",
   "execution_count": 2,
   "id": "93e21dcf-6fa0-4d2d-af2d-4fdc656d4646",
   "metadata": {},
   "outputs": [],
   "source": [
    "from tensorflow.keras.applications import ResNet50\n",
    "from tensorflow.keras.layers import Dense, GlobalAveragePooling2D\n",
    "from tensorflow.keras.models import Model\n",
    "\n",
    "# Load ResNet50 with pretrained weights\n",
    "base_model = ResNet50(weights='imagenet', include_top=False, input_shape=(224, 224, 3))\n",
    "\n",
    "# Freeze base layers\n",
    "for layer in base_model.layers:\n",
    "    layer.trainable = False\n",
    "\n",
    "# Add custom classification layers\n",
    "x = base_model.output\n",
    "x = GlobalAveragePooling2D()(x)\n",
    "x = Dense(256, activation='relu')(x)\n",
    "x = Dense(128, activation='relu')(x)\n",
    "predictions = Dense(len(train_data.class_indices), activation='softmax')(x)\n",
    "\n",
    "model = Model(inputs=base_model.input, outputs=predictions)\n"
   ]
  },
  {
   "cell_type": "code",
   "execution_count": 3,
   "id": "2d0e1c3f-364f-4e3c-8c94-0b771cf733e7",
   "metadata": {},
   "outputs": [
    {
     "ename": "ValueError",
     "evalue": "Data is expected to be in format `x`, `(x,)`, `(x, y)`, or `(x, y, sample_weight)`, found: (75, 450, 673, 854, 277, 68, 446, 578, 188, 271, 680, 569, 236, 88, 781, 117, 125, 753, 289, 238, 0, 912, 495, 802, 395, 545, 126, 278, 710, 116, 473, 228, 678, 672, 57, 529, 274, 318, 620, 144, 651, 572, 838, 659, 369, 268, 638, 307, 423, 310, 354, 46, 349, 195, 921, 767, 714, 263, 443, 621, 304, 341, 889, 149, 124, 723, 50, 353, 852, 142, 470, 399, 576, 320, 19, 744, 777, 743, 407, 537, 635, 38, 175, 245, 812, 616, 692, 789, 154, 287, 554, 17, 127, 322, 255, 606, 887, 190, 115, 567, 180, 301, 697, 655, 666, 630, 734, 517, 906, 45, 835, 157, 706, 171, 16, 511, 48, 893, 773, 515, 631, 480, 283, 603, 225, 26, 867, 437, 874, 364, 229, 37, 888, 374, 469, 890, 877, 668, 194, 785, 795, 503, 892, 764, 579, 891, 162, 866, 152, 626, 644, 693, 111, 226, 718, 103, 421, 419, 586, 119, 53, 151, 403, 869, 207, 885, 915, 8, 756, 36, 452, 253, 303, 685, 571, 623, 653, 662, 262, 610, 297, 414, 150, 774, 640, 816, 550, 728, 488, 147, 146, 705, 855, 679, 348, 463, 325, 186, 123, 784, 608, 143, 881, 197, 609, 279, 293, 400, 122, 183, 202, 438, 246, 415, 703, 827, 129, 637, 402, 721, 708, 839, 219, 641, 841, 758, 844, 624, 837, 741, 386, 894, 509, 267, 754, 441, 496, 112, 691, 232, 800, 607, 671, 373, 903, 847, 233, 722, 676, 317, 648, 410, 825, 709, 358, 258, 627, 632, 282, 376, 384, 224, 876, 749, 472, 347, 505, 639, 909, 853, 904, 619, 786, 645, 778, 556, 880, 577, 85, 242, 698, 159, 524, 35, 540, 170, 654, 817, 788, 783, 868, 733, 95, 563, 240, 742, 574, 690, 460, 553, 806, 206, 392, 397, 780, 217, 4, 768, 642, 824, 612, 738, 546, 725, 683, 98, 727, 573, 406, 502, 47, 32, 779, 200, 134, 27, 808, 230, 489, 772, 378, 288, 418, 674, 391, 592, 498, 138, 62, 471, 647, 128, 898, 520, 64, 14, 156, 40, 492, 379, 187, 763, 216, 791, 52, 337, 748, 719, 724, 295, 701, 251, 726, 461, 455, 918, 815, 269, 201, 161, 555, 729, 401, 702, 476, 821, 771, 105, 565, 389, 1, 861, 561, 80, 205, 34, 775, 508, 427, 454, 366, 91, 339, 564, 345, 776, 241, 13, 315, 600, 387, 273, 166, 840, 914, 646, 818, 484, 902, 504, 831, 243, 566, 562, 686, 189, 782, 699, 475, 681, 510, 58, 474, 560, 856, 747, 252, 21, 313, 459, 160, 276, 191, 385, 805, 413, 491, 343, 769, 308, 661, 130, 663, 871, 99, 372, 87, 458, 330, 214, 466, 121, 614, 20, 700, 71, 106, 270, 860, 435, 102)",
     "output_type": "error",
     "traceback": [
      "\u001b[1;31m---------------------------------------------------------------------------\u001b[0m",
      "\u001b[1;31mValueError\u001b[0m                                Traceback (most recent call last)",
      "Cell \u001b[1;32mIn[3], line 16\u001b[0m\n\u001b[0;32m     13\u001b[0m lr_scheduler \u001b[38;5;241m=\u001b[39m ReduceLROnPlateau(monitor\u001b[38;5;241m=\u001b[39m\u001b[38;5;124m'\u001b[39m\u001b[38;5;124mval_loss\u001b[39m\u001b[38;5;124m'\u001b[39m, factor\u001b[38;5;241m=\u001b[39m\u001b[38;5;241m0.2\u001b[39m, patience\u001b[38;5;241m=\u001b[39m\u001b[38;5;241m5\u001b[39m)\n\u001b[0;32m     15\u001b[0m \u001b[38;5;66;03m# Train the model\u001b[39;00m\n\u001b[1;32m---> 16\u001b[0m history \u001b[38;5;241m=\u001b[39m \u001b[43mmodel\u001b[49m\u001b[38;5;241;43m.\u001b[39;49m\u001b[43mfit\u001b[49m\u001b[43m(\u001b[49m\n\u001b[0;32m     17\u001b[0m \u001b[43m    \u001b[49m\u001b[43mtrain_data\u001b[49m\u001b[43m,\u001b[49m\n\u001b[0;32m     18\u001b[0m \u001b[43m    \u001b[49m\u001b[43mvalidation_data\u001b[49m\u001b[38;5;241;43m=\u001b[39;49m\u001b[43mval_data\u001b[49m\u001b[43m,\u001b[49m\n\u001b[0;32m     19\u001b[0m \u001b[43m    \u001b[49m\u001b[43mepochs\u001b[49m\u001b[38;5;241;43m=\u001b[39;49m\u001b[38;5;241;43m30\u001b[39;49m\u001b[43m,\u001b[49m\n\u001b[0;32m     20\u001b[0m \u001b[43m    \u001b[49m\u001b[43mcallbacks\u001b[49m\u001b[38;5;241;43m=\u001b[39;49m\u001b[43m[\u001b[49m\u001b[43mcheckpoint\u001b[49m\u001b[43m,\u001b[49m\u001b[43m \u001b[49m\u001b[43mearly_stopping\u001b[49m\u001b[43m,\u001b[49m\u001b[43m \u001b[49m\u001b[43mlr_scheduler\u001b[49m\u001b[43m]\u001b[49m\n\u001b[0;32m     21\u001b[0m \u001b[43m)\u001b[49m\n",
      "File \u001b[1;32m~\\cnn_env\\lib\\site-packages\\keras\\src\\utils\\traceback_utils.py:122\u001b[0m, in \u001b[0;36mfilter_traceback.<locals>.error_handler\u001b[1;34m(*args, **kwargs)\u001b[0m\n\u001b[0;32m    119\u001b[0m     filtered_tb \u001b[38;5;241m=\u001b[39m _process_traceback_frames(e\u001b[38;5;241m.\u001b[39m__traceback__)\n\u001b[0;32m    120\u001b[0m     \u001b[38;5;66;03m# To get the full stack trace, call:\u001b[39;00m\n\u001b[0;32m    121\u001b[0m     \u001b[38;5;66;03m# `keras.config.disable_traceback_filtering()`\u001b[39;00m\n\u001b[1;32m--> 122\u001b[0m     \u001b[38;5;28;01mraise\u001b[39;00m e\u001b[38;5;241m.\u001b[39mwith_traceback(filtered_tb) \u001b[38;5;28;01mfrom\u001b[39;00m\u001b[38;5;250m \u001b[39m\u001b[38;5;28;01mNone\u001b[39;00m\n\u001b[0;32m    123\u001b[0m \u001b[38;5;28;01mfinally\u001b[39;00m:\n\u001b[0;32m    124\u001b[0m     \u001b[38;5;28;01mdel\u001b[39;00m filtered_tb\n",
      "File \u001b[1;32m~\\cnn_env\\lib\\site-packages\\keras\\src\\trainers\\data_adapters\\data_adapter_utils.py:51\u001b[0m, in \u001b[0;36munpack_x_y_sample_weight\u001b[1;34m(data)\u001b[0m\n\u001b[0;32m     46\u001b[0m     \u001b[38;5;28;01mreturn\u001b[39;00m (data[\u001b[38;5;241m0\u001b[39m], data[\u001b[38;5;241m1\u001b[39m], data[\u001b[38;5;241m2\u001b[39m])\n\u001b[0;32m     47\u001b[0m error_msg \u001b[38;5;241m=\u001b[39m (\n\u001b[0;32m     48\u001b[0m     \u001b[38;5;124m\"\u001b[39m\u001b[38;5;124mData is expected to be in format `x`, `(x,)`, `(x, y)`, \u001b[39m\u001b[38;5;124m\"\u001b[39m\n\u001b[0;32m     49\u001b[0m     \u001b[38;5;124mf\u001b[39m\u001b[38;5;124m\"\u001b[39m\u001b[38;5;124mor `(x, y, sample_weight)`, found: \u001b[39m\u001b[38;5;132;01m{\u001b[39;00mdata\u001b[38;5;132;01m}\u001b[39;00m\u001b[38;5;124m\"\u001b[39m\n\u001b[0;32m     50\u001b[0m )\n\u001b[1;32m---> 51\u001b[0m \u001b[38;5;28;01mraise\u001b[39;00m \u001b[38;5;167;01mValueError\u001b[39;00m(error_msg)\n",
      "\u001b[1;31mValueError\u001b[0m: Data is expected to be in format `x`, `(x,)`, `(x, y)`, or `(x, y, sample_weight)`, found: (75, 450, 673, 854, 277, 68, 446, 578, 188, 271, 680, 569, 236, 88, 781, 117, 125, 753, 289, 238, 0, 912, 495, 802, 395, 545, 126, 278, 710, 116, 473, 228, 678, 672, 57, 529, 274, 318, 620, 144, 651, 572, 838, 659, 369, 268, 638, 307, 423, 310, 354, 46, 349, 195, 921, 767, 714, 263, 443, 621, 304, 341, 889, 149, 124, 723, 50, 353, 852, 142, 470, 399, 576, 320, 19, 744, 777, 743, 407, 537, 635, 38, 175, 245, 812, 616, 692, 789, 154, 287, 554, 17, 127, 322, 255, 606, 887, 190, 115, 567, 180, 301, 697, 655, 666, 630, 734, 517, 906, 45, 835, 157, 706, 171, 16, 511, 48, 893, 773, 515, 631, 480, 283, 603, 225, 26, 867, 437, 874, 364, 229, 37, 888, 374, 469, 890, 877, 668, 194, 785, 795, 503, 892, 764, 579, 891, 162, 866, 152, 626, 644, 693, 111, 226, 718, 103, 421, 419, 586, 119, 53, 151, 403, 869, 207, 885, 915, 8, 756, 36, 452, 253, 303, 685, 571, 623, 653, 662, 262, 610, 297, 414, 150, 774, 640, 816, 550, 728, 488, 147, 146, 705, 855, 679, 348, 463, 325, 186, 123, 784, 608, 143, 881, 197, 609, 279, 293, 400, 122, 183, 202, 438, 246, 415, 703, 827, 129, 637, 402, 721, 708, 839, 219, 641, 841, 758, 844, 624, 837, 741, 386, 894, 509, 267, 754, 441, 496, 112, 691, 232, 800, 607, 671, 373, 903, 847, 233, 722, 676, 317, 648, 410, 825, 709, 358, 258, 627, 632, 282, 376, 384, 224, 876, 749, 472, 347, 505, 639, 909, 853, 904, 619, 786, 645, 778, 556, 880, 577, 85, 242, 698, 159, 524, 35, 540, 170, 654, 817, 788, 783, 868, 733, 95, 563, 240, 742, 574, 690, 460, 553, 806, 206, 392, 397, 780, 217, 4, 768, 642, 824, 612, 738, 546, 725, 683, 98, 727, 573, 406, 502, 47, 32, 779, 200, 134, 27, 808, 230, 489, 772, 378, 288, 418, 674, 391, 592, 498, 138, 62, 471, 647, 128, 898, 520, 64, 14, 156, 40, 492, 379, 187, 763, 216, 791, 52, 337, 748, 719, 724, 295, 701, 251, 726, 461, 455, 918, 815, 269, 201, 161, 555, 729, 401, 702, 476, 821, 771, 105, 565, 389, 1, 861, 561, 80, 205, 34, 775, 508, 427, 454, 366, 91, 339, 564, 345, 776, 241, 13, 315, 600, 387, 273, 166, 840, 914, 646, 818, 484, 902, 504, 831, 243, 566, 562, 686, 189, 782, 699, 475, 681, 510, 58, 474, 560, 856, 747, 252, 21, 313, 459, 160, 276, 191, 385, 805, 413, 491, 343, 769, 308, 661, 130, 663, 871, 99, 372, 87, 458, 330, 214, 466, 121, 614, 20, 700, 71, 106, 270, 860, 435, 102)"
     ]
    }
   ],
   "source": [
    "from tensorflow.keras.callbacks import ModelCheckpoint, EarlyStopping, ReduceLROnPlateau\n",
    "\n",
    "# Compile the model\n",
    "model.compile(\n",
    "    optimizer='adam',\n",
    "    loss='categorical_crossentropy',\n",
    "    metrics=['accuracy']\n",
    ")\n",
    "\n",
    "# Callbacks\n",
    "checkpoint = ModelCheckpoint('best_model.h5', monitor='val_accuracy', save_best_only=True)\n",
    "early_stopping = EarlyStopping(monitor='val_loss', patience=10, restore_best_weights=True)\n",
    "lr_scheduler = ReduceLROnPlateau(monitor='val_loss', factor=0.2, patience=5)\n",
    "\n",
    "# Train the model\n",
    "history = model.fit(\n",
    "    train_data,\n",
    "    validation_data=val_data,\n",
    "    epochs=30,\n",
    "    callbacks=[checkpoint, early_stopping, lr_scheduler]\n",
    ")\n"
   ]
  },
  {
   "cell_type": "code",
   "execution_count": 4,
   "id": "495dd714-a155-485b-a100-7dfabb5c802c",
   "metadata": {},
   "outputs": [
    {
     "name": "stdout",
     "output_type": "stream",
     "text": [
      "<class 'keras.src.legacy.preprocessing.image.DirectoryIterator'> <class 'list'>\n"
     ]
    }
   ],
   "source": [
    "print(type(train_data), type(val_data))\n"
   ]
  },
  {
   "cell_type": "code",
   "execution_count": 6,
   "id": "5ee3a770-6ccc-4add-aa0f-14b552a693d7",
   "metadata": {},
   "outputs": [
    {
     "ename": "TypeError",
     "evalue": "'DirectoryIterator' object is not callable",
     "output_type": "error",
     "traceback": [
      "\u001b[1;31m---------------------------------------------------------------------------\u001b[0m",
      "\u001b[1;31mTypeError\u001b[0m                                 Traceback (most recent call last)",
      "Cell \u001b[1;32mIn[6], line 1\u001b[0m\n\u001b[1;32m----> 1\u001b[0m \u001b[38;5;28;01mfor\u001b[39;00m data \u001b[38;5;129;01min\u001b[39;00m \u001b[43mtrain_data\u001b[49m\u001b[43m(\u001b[49m\u001b[38;5;241;43m1\u001b[39;49m\u001b[43m)\u001b[49m:\n\u001b[0;32m      2\u001b[0m     \u001b[38;5;28mprint\u001b[39m(data)\n",
      "\u001b[1;31mTypeError\u001b[0m: 'DirectoryIterator' object is not callable"
     ]
    }
   ],
   "source": [
    "for data in train_data(1):\n",
    "    print(data)\n"
   ]
  },
  {
   "cell_type": "code",
   "execution_count": null,
   "id": "647ddc4e-d145-497b-8b58-b53f3de670d7",
   "metadata": {},
   "outputs": [],
   "source": []
  }
 ],
 "metadata": {
  "kernelspec": {
   "display_name": "Python (cnn_env)",
   "language": "python",
   "name": "cnn_env"
  },
  "language_info": {
   "codemirror_mode": {
    "name": "ipython",
    "version": 3
   },
   "file_extension": ".py",
   "mimetype": "text/x-python",
   "name": "python",
   "nbconvert_exporter": "python",
   "pygments_lexer": "ipython3",
   "version": "3.10.0"
  }
 },
 "nbformat": 4,
 "nbformat_minor": 5
}
