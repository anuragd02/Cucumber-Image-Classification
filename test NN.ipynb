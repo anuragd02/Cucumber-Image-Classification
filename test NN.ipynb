{
 "cells": [
  {
   "cell_type": "code",
   "execution_count": 3,
   "id": "9eb01abc-33a0-492e-9f03-18d86e7f64e8",
   "metadata": {},
   "outputs": [
    {
     "name": "stdout",
     "output_type": "stream",
     "text": [
      "Predicted Class: Healthy\n"
     ]
    }
   ],
   "source": [
    "import os\n",
    "import numpy as np\n",
    "import joblib\n",
    "from PIL import Image\n",
    "from sklearn.preprocessing import StandardScaler\n",
    "\n",
    "# Load the saved model\n",
    "model_path = 'neural_network_classifier.pkl'\n",
    "model = joblib.load(model_path)\n",
    "\n",
    "# Absolute path to the test image\n",
    "test_image_path = r'D:\\AI Algorithm\\cucumber\\test_image.jpg'  # Use raw string to avoid escape character issues\n",
    "\n",
    "# Check if the test image exists\n",
    "if not os.path.exists(test_image_path):\n",
    "    print(f\"Error: The file '{test_image_path}' was not found. Please check the file path.\")\n",
    "else:\n",
    "    try:\n",
    "        # Preprocess the test image\n",
    "        image_size = (64, 64)  # Same size used during training\n",
    "        img = Image.open(test_image_path).convert('RGB')\n",
    "        img = img.resize(image_size)\n",
    "        img_array = np.array(img) / 255.0  # Normalize pixel values\n",
    "        img_array = img_array.flatten().reshape(1, -1)  # Flatten and reshape for prediction\n",
    "        \n",
    "        # Standardize the test image using the same scaler used during training\n",
    "        scaler = StandardScaler()\n",
    "        img_array = scaler.fit_transform(img_array)\n",
    "\n",
    "        # Predict the class\n",
    "        predicted_class = model.predict(img_array)[0]\n",
    "        categories = ['Healthy', 'Unhealthy']  # Class labels\n",
    "        print(f\"Predicted Class: {categories[predicted_class]}\")\n",
    "\n",
    "    except Exception as e:\n",
    "        print(f\"Error loading or processing image: {e}\")\n"
   ]
  },
  {
   "cell_type": "code",
   "execution_count": null,
   "id": "a5af30fa-bf44-4cb7-aa2d-254e47135088",
   "metadata": {},
   "outputs": [],
   "source": []
  }
 ],
 "metadata": {
  "kernelspec": {
   "display_name": "Python 3 (ipykernel)",
   "language": "python",
   "name": "python3"
  },
  "language_info": {
   "codemirror_mode": {
    "name": "ipython",
    "version": 3
   },
   "file_extension": ".py",
   "mimetype": "text/x-python",
   "name": "python",
   "nbconvert_exporter": "python",
   "pygments_lexer": "ipython3",
   "version": "3.13.1"
  }
 },
 "nbformat": 4,
 "nbformat_minor": 5
}
