{
 "cells": [
  {
   "cell_type": "code",
   "execution_count": 1,
   "id": "eb436641-1718-4d32-8f06-bc27fdd64034",
   "metadata": {},
   "outputs": [],
   "source": [
    "import tensorflow as tf\n",
    "from tensorflow.keras.preprocessing.image import ImageDataGenerator\n",
    "from tensorflow.keras.applications import VGG16\n",
    "from tensorflow.keras.models import Model\n",
    "from tensorflow.keras.layers import Dense, Flatten, Dropout, GlobalAveragePooling2D\n",
    "from tensorflow.keras.optimizers import Adam\n",
    "from sklearn.metrics import accuracy_score, precision_score, recall_score, f1_score, roc_auc_score, confusion_matrix\n",
    "from sklearn.metrics import mean_absolute_error, mean_squared_error, explained_variance_score, r2_score\n",
    "import numpy as np\n"
   ]
  },
  {
   "cell_type": "code",
   "execution_count": 5,
   "id": "65f00cce-a05a-4254-84a0-60fd90f41d51",
   "metadata": {},
   "outputs": [
    {
     "name": "stdout",
     "output_type": "stream",
     "text": [
      "Found 690 images belonging to 2 classes.\n",
      "Found 230 images belonging to 2 classes.\n",
      "Found 232 images belonging to 2 classes.\n"
     ]
    }
   ],
   "source": [
    "# Define paths\n",
    "base_dir = \"D:/AI Algorithm/cucumber/\"\n",
    "train_dir = base_dir + \"train/\"\n",
    "validate_dir = base_dir + \"validation/\"\n",
    "test_dir = base_dir + \"test/\"\n",
    "\n",
    "# Image Data Generators\n",
    "train_datagen = ImageDataGenerator(rescale=1./255, rotation_range=20, zoom_range=0.2, horizontal_flip=True)\n",
    "validate_datagen = ImageDataGenerator(rescale=1./255)\n",
    "test_datagen = ImageDataGenerator(rescale=1./255)\n",
    "\n",
    "# Load data\n",
    "train_data = train_datagen.flow_from_directory(train_dir, target_size=(224, 224), batch_size=32, class_mode='binary')\n",
    "validate_data = validate_datagen.flow_from_directory(validate_dir, target_size=(224, 224), batch_size=32, class_mode='binary')\n",
    "test_data = test_datagen.flow_from_directory(test_dir, target_size=(224, 224), batch_size=32, class_mode='binary', shuffle=False)\n"
   ]
  },
  {
   "cell_type": "code",
   "execution_count": 6,
   "id": "5a546141-c581-41d2-b0d4-96ed600fb8a2",
   "metadata": {},
   "outputs": [
    {
     "name": "stdout",
     "output_type": "stream",
     "text": [
      "Downloading data from https://storage.googleapis.com/tensorflow/keras-applications/vgg16/vgg16_weights_tf_dim_ordering_tf_kernels_notop.h5\n",
      "\u001b[1m58889256/58889256\u001b[0m \u001b[32m━━━━━━━━━━━━━━━━━━━━\u001b[0m\u001b[37m\u001b[0m \u001b[1m15s\u001b[0m 0us/step\n"
     ]
    }
   ],
   "source": [
    "# Load pretrained VGG16 model without the top layer\n",
    "base_model = VGG16(weights='imagenet', include_top=False, input_shape=(224, 224, 3))\n",
    "\n",
    "# Freeze base model layers\n",
    "for layer in base_model.layers:\n",
    "    layer.trainable = False\n",
    "\n",
    "# Add custom layers\n",
    "x = base_model.output\n",
    "x = GlobalAveragePooling2D()(x)\n",
    "x = Dense(128, activation='relu')(x)\n",
    "x = Dropout(0.5)(x)\n",
    "output = Dense(1, activation='sigmoid')(x)  # Binary classification\n",
    "\n",
    "# Create final model\n",
    "model = Model(inputs=base_model.input, outputs=output)\n",
    "\n",
    "# Compile the model\n",
    "model.compile(optimizer=Adam(learning_rate=0.001), loss='binary_crossentropy', metrics=['accuracy'])\n"
   ]
  },
  {
   "cell_type": "code",
   "execution_count": 8,
   "id": "e944be2d-661c-4086-b617-256329aa1e2d",
   "metadata": {},
   "outputs": [
    {
     "name": "stdout",
     "output_type": "stream",
     "text": [
      "Epoch 1/10\n",
      "\u001b[1m22/22\u001b[0m \u001b[32m━━━━━━━━━━━━━━━━━━━━\u001b[0m\u001b[37m\u001b[0m \u001b[1m123s\u001b[0m 5s/step - accuracy: 0.6353 - loss: 0.6895 - val_accuracy: 0.7174 - val_loss: 0.4994\n",
      "Epoch 2/10\n",
      "\u001b[1m22/22\u001b[0m \u001b[32m━━━━━━━━━━━━━━━━━━━━\u001b[0m\u001b[37m\u001b[0m \u001b[1m116s\u001b[0m 5s/step - accuracy: 0.7488 - loss: 0.5198 - val_accuracy: 0.7565 - val_loss: 0.4343\n",
      "Epoch 3/10\n",
      "\u001b[1m22/22\u001b[0m \u001b[32m━━━━━━━━━━━━━━━━━━━━\u001b[0m\u001b[37m\u001b[0m \u001b[1m116s\u001b[0m 5s/step - accuracy: 0.7847 - loss: 0.4556 - val_accuracy: 0.8739 - val_loss: 0.3626\n",
      "Epoch 4/10\n",
      "\u001b[1m22/22\u001b[0m \u001b[32m━━━━━━━━━━━━━━━━━━━━\u001b[0m\u001b[37m\u001b[0m \u001b[1m115s\u001b[0m 5s/step - accuracy: 0.8649 - loss: 0.3763 - val_accuracy: 0.8696 - val_loss: 0.3253\n",
      "Epoch 5/10\n",
      "\u001b[1m22/22\u001b[0m \u001b[32m━━━━━━━━━━━━━━━━━━━━\u001b[0m\u001b[37m\u001b[0m \u001b[1m116s\u001b[0m 5s/step - accuracy: 0.8840 - loss: 0.3260 - val_accuracy: 0.8739 - val_loss: 0.2953\n",
      "Epoch 6/10\n",
      "\u001b[1m22/22\u001b[0m \u001b[32m━━━━━━━━━━━━━━━━━━━━\u001b[0m\u001b[37m\u001b[0m \u001b[1m116s\u001b[0m 5s/step - accuracy: 0.8838 - loss: 0.2993 - val_accuracy: 0.9261 - val_loss: 0.2299\n",
      "Epoch 7/10\n",
      "\u001b[1m22/22\u001b[0m \u001b[32m━━━━━━━━━━━━━━━━━━━━\u001b[0m\u001b[37m\u001b[0m \u001b[1m115s\u001b[0m 5s/step - accuracy: 0.9206 - loss: 0.2684 - val_accuracy: 0.8870 - val_loss: 0.2334\n",
      "Epoch 8/10\n",
      "\u001b[1m22/22\u001b[0m \u001b[32m━━━━━━━━━━━━━━━━━━━━\u001b[0m\u001b[37m\u001b[0m \u001b[1m114s\u001b[0m 5s/step - accuracy: 0.9439 - loss: 0.2325 - val_accuracy: 0.9304 - val_loss: 0.1892\n",
      "Epoch 9/10\n",
      "\u001b[1m22/22\u001b[0m \u001b[32m━━━━━━━━━━━━━━━━━━━━\u001b[0m\u001b[37m\u001b[0m \u001b[1m117s\u001b[0m 5s/step - accuracy: 0.9200 - loss: 0.2336 - val_accuracy: 0.8957 - val_loss: 0.2091\n",
      "Epoch 10/10\n",
      "\u001b[1m22/22\u001b[0m \u001b[32m━━━━━━━━━━━━━━━━━━━━\u001b[0m\u001b[37m\u001b[0m \u001b[1m115s\u001b[0m 5s/step - accuracy: 0.9282 - loss: 0.2031 - val_accuracy: 0.9522 - val_loss: 0.1505\n"
     ]
    }
   ],
   "source": [
    "# Train the model\n",
    "history = model.fit(\n",
    "    train_data,\n",
    "    epochs=10,\n",
    "    validation_data=validate_data\n",
    ")\n"
   ]
  },
  {
   "cell_type": "code",
   "execution_count": 9,
   "id": "5b643923-d5ee-41ce-bb2c-87de31a1b83b",
   "metadata": {},
   "outputs": [
    {
     "name": "stdout",
     "output_type": "stream",
     "text": [
      "\u001b[1m8/8\u001b[0m \u001b[32m━━━━━━━━━━━━━━━━━━━━\u001b[0m\u001b[37m\u001b[0m \u001b[1m30s\u001b[0m 3s/step\n",
      "Classification Metrics:\n",
      "Accuracy: 0.9612\n",
      "Precision: 0.9645\n",
      "Recall: 0.9819\n",
      "F1-Score: 0.9731\n",
      "AUC: 0.9898\n",
      "Confusion Matrix:\n",
      "[[ 60   6]\n",
      " [  3 163]]\n",
      "\n",
      "Regression Metrics:\n",
      "Mean Absolute Error (MAE): 0.1123\n",
      "Mean Squared Error (MSE): 0.0384\n",
      "Root Mean Squared Error (RMSE): 0.1959\n",
      "Explained Variance Score: 0.8132\n",
      "R^2 Score: 0.8114\n",
      "Mean Bias Deviation (MBD): 0.0187\n"
     ]
    }
   ],
   "source": [
    "# Predict on test data\n",
    "y_pred_probs = model.predict(test_data)\n",
    "y_pred = (y_pred_probs > 0.5).astype(int).ravel()\n",
    "y_true = test_data.classes\n",
    "\n",
    "# Classification Metrics\n",
    "accuracy = accuracy_score(y_true, y_pred)\n",
    "precision = precision_score(y_true, y_pred, zero_division=1)\n",
    "recall = recall_score(y_true, y_pred, zero_division=1)\n",
    "f1 = f1_score(y_true, y_pred, zero_division=1)\n",
    "try:\n",
    "    auc = roc_auc_score(y_true, y_pred_probs.ravel())\n",
    "except ValueError:\n",
    "    auc = 0.0\n",
    "conf_matrix = confusion_matrix(y_true, y_pred)\n",
    "\n",
    "# Regression Metrics\n",
    "mae = mean_absolute_error(y_true, y_pred_probs.ravel())\n",
    "mse = mean_squared_error(y_true, y_pred_probs.ravel())\n",
    "rmse = np.sqrt(mse)\n",
    "explained_var = explained_variance_score(y_true, y_pred_probs.ravel())\n",
    "r2 = r2_score(y_true, y_pred_probs.ravel())\n",
    "mbd = np.mean(y_pred_probs.ravel() - y_true)\n",
    "\n",
    "# Print metrics\n",
    "print(\"Classification Metrics:\")\n",
    "print(f\"Accuracy: {accuracy:.4f}\")\n",
    "print(f\"Precision: {precision:.4f}\")\n",
    "print(f\"Recall: {recall:.4f}\")\n",
    "print(f\"F1-Score: {f1:.4f}\")\n",
    "print(f\"AUC: {auc:.4f}\")\n",
    "print(f\"Confusion Matrix:\\n{conf_matrix}\\n\")\n",
    "\n",
    "print(\"Regression Metrics:\")\n",
    "print(f\"Mean Absolute Error (MAE): {mae:.4f}\")\n",
    "print(f\"Mean Squared Error (MSE): {mse:.4f}\")\n",
    "print(f\"Root Mean Squared Error (RMSE): {rmse:.4f}\")\n",
    "print(f\"Explained Variance Score: {explained_var:.4f}\")\n",
    "print(f\"R^2 Score: {r2:.4f}\")\n",
    "print(f\"Mean Bias Deviation (MBD): {mbd:.4f}\")\n"
   ]
  },
  {
   "cell_type": "code",
   "execution_count": 13,
   "id": "d8a1a9d8-94a3-48c9-9c1e-e1f484f1d8e1",
   "metadata": {},
   "outputs": [
    {
     "name": "stderr",
     "output_type": "stream",
     "text": [
      "WARNING:absl:You are saving your model as an HDF5 file via `model.save()` or `keras.saving.save_model(model)`. This file format is considered legacy. We recommend using instead the native Keras format, e.g. `model.save('my_model.keras')` or `keras.saving.save_model(model, 'my_model.keras')`. \n"
     ]
    },
    {
     "name": "stdout",
     "output_type": "stream",
     "text": [
      "Model saved successfully!\n"
     ]
    }
   ],
   "source": [
    "# Save the model\n",
    "model.save('vgg_net16.h5')\n",
    "# Save the model in the recommended Keras format\n",
    "model.save(\"vgg_net16.keras\")  # Save in the .keras format\n",
    "print(\"Model saved successfully!\")"
   ]
  },
  {
   "cell_type": "code",
   "execution_count": null,
   "id": "10780d2b-ab27-4d00-b926-22aa898657fd",
   "metadata": {},
   "outputs": [],
   "source": []
  }
 ],
 "metadata": {
  "kernelspec": {
   "display_name": "Python (cnn_env)",
   "language": "python",
   "name": "cnn_env"
  },
  "language_info": {
   "codemirror_mode": {
    "name": "ipython",
    "version": 3
   },
   "file_extension": ".py",
   "mimetype": "text/x-python",
   "name": "python",
   "nbconvert_exporter": "python",
   "pygments_lexer": "ipython3",
   "version": "3.10.0"
  }
 },
 "nbformat": 4,
 "nbformat_minor": 5
}
