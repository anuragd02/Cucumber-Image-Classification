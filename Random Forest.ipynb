{
 "cells": [
  {
   "cell_type": "code",
   "execution_count": 4,
   "id": "165ad401-ce63-4453-bd4c-02913f3f567d",
   "metadata": {},
   "outputs": [
    {
     "name": "stdout",
     "output_type": "stream",
     "text": [
      "Dataset loaded and split successfully!\n"
     ]
    }
   ],
   "source": [
    "import os\n",
    "import cv2\n",
    "import numpy as np\n",
    "from sklearn.model_selection import train_test_split\n",
    "from sklearn.ensemble import RandomForestClassifier\n",
    "from sklearn.metrics import classification_report, confusion_matrix, accuracy_score\n",
    "import joblib\n",
    "\n",
    "# Function to load images and labels\n",
    "def load_images(folder_path, label, image_size=64):\n",
    "    images = []\n",
    "    labels = []\n",
    "    for file_name in os.listdir(folder_path):\n",
    "        if file_name.endswith(\".jpg\"):\n",
    "            image_path = os.path.join(folder_path, file_name)\n",
    "            image = cv2.imread(image_path, cv2.IMREAD_GRAYSCALE)\n",
    "            image_resized = cv2.resize(image, (image_size, image_size))\n",
    "            images.append(image_resized.flatten())\n",
    "            labels.append(label)\n",
    "    return images, labels\n",
    "\n",
    "# Load healthy and unhealthy images\n",
    "healthy_images, healthy_labels = load_images('D:/AI Algorithm/cucumber/healthy/', 0)\n",
    "unhealthy_images, unhealthy_labels = load_images('D:/AI Algorithm/cucumber/unhealthy/', 1)\n",
    "\n",
    "# Combine images and labels\n",
    "X = np.array(healthy_images + unhealthy_images)\n",
    "y = np.array(healthy_labels + unhealthy_labels)\n",
    "\n",
    "# Split the dataset into training and testing sets\n",
    "X_train, X_test, y_train, y_test = train_test_split(X, y, test_size=0.2, random_state=42)\n",
    "print(\"Dataset loaded and split successfully!\")\n"
   ]
  },
  {
   "cell_type": "code",
   "execution_count": 5,
   "id": "00f03115-34c7-4424-b29d-2f1e8588dfcc",
   "metadata": {},
   "outputs": [
    {
     "name": "stdout",
     "output_type": "stream",
     "text": [
      "Random Forest model trained successfully!\n"
     ]
    }
   ],
   "source": [
    "# Create and train the Random Forest classifier\n",
    "rf_model = RandomForestClassifier(n_estimators=100, random_state=42)\n",
    "rf_model.fit(X_train, y_train)\n",
    "print(\"Random Forest model trained successfully!\")\n"
   ]
  },
  {
   "cell_type": "code",
   "execution_count": 6,
   "id": "93f3bf4e-20a3-4e38-a97a-19291c463cfe",
   "metadata": {},
   "outputs": [
    {
     "name": "stdout",
     "output_type": "stream",
     "text": [
      "Random Forest model saved successfully!\n"
     ]
    }
   ],
   "source": [
    "# Save the trained Random Forest model\n",
    "joblib.dump(rf_model, 'random_forest_cucumber_classifier.pkl')\n",
    "print(\"Random Forest model saved successfully!\")\n"
   ]
  },
  {
   "cell_type": "code",
   "execution_count": 7,
   "id": "dd9809a3-d13f-474e-97b3-c3f97b34c840",
   "metadata": {},
   "outputs": [
    {
     "name": "stdout",
     "output_type": "stream",
     "text": [
      "Random Forest model loaded successfully!\n"
     ]
    }
   ],
   "source": [
    "# Load the saved Random Forest model\n",
    "loaded_rf_model = joblib.load('random_forest_cucumber_classifier.pkl')\n",
    "print(\"Random Forest model loaded successfully!\")\n"
   ]
  },
  {
   "cell_type": "code",
   "execution_count": 9,
   "id": "e96ad03d-efaa-4174-984e-68aa3fae79f0",
   "metadata": {},
   "outputs": [
    {
     "name": "stdout",
     "output_type": "stream",
     "text": [
      "The leaf is: Healthy\n"
     ]
    }
   ],
   "source": [
    "# Function to predict leaf health\n",
    "def predict_leaf_health_rf(image_path):\n",
    "    image = cv2.imread(image_path, cv2.IMREAD_GRAYSCALE)\n",
    "    image_resized = cv2.resize(image, (64, 64))\n",
    "    image_flattened = image_resized.flatten().reshape(1, -1)\n",
    "    \n",
    "    prediction = loaded_rf_model.predict(image_flattened)\n",
    "    result = \"Healthy\" if prediction[0] == 0 else \"Unhealthy\"\n",
    "    \n",
    "    return result\n",
    "\n",
    "# Example usage\n",
    "new_image_path = 'D:/AI Algorithm/cucumber/test_image.jpg'  # Replace with a new image path\n",
    "result = predict_leaf_health_rf(new_image_path)\n",
    "print(f\"The leaf is: {result}\")\n"
   ]
  },
  {
   "cell_type": "code",
   "execution_count": 3,
   "id": "0dc6e207-64db-48b4-a094-79c636db8b84",
   "metadata": {},
   "outputs": [
    {
     "ename": "NameError",
     "evalue": "name 'y_pred' is not defined",
     "output_type": "error",
     "traceback": [
      "\u001b[1;31m---------------------------------------------------------------------------\u001b[0m",
      "\u001b[1;31mNameError\u001b[0m                                 Traceback (most recent call last)",
      "Cell \u001b[1;32mIn[3], line 7\u001b[0m\n\u001b[0;32m      4\u001b[0m \u001b[38;5;28;01mimport\u001b[39;00m\u001b[38;5;250m \u001b[39m\u001b[38;5;21;01mnumpy\u001b[39;00m\u001b[38;5;250m \u001b[39m\u001b[38;5;28;01mas\u001b[39;00m\u001b[38;5;250m \u001b[39m\u001b[38;5;21;01mnp\u001b[39;00m\n\u001b[0;32m      6\u001b[0m \u001b[38;5;66;03m# Accuracy, Precision, Recall, F1-Score, AUC\u001b[39;00m\n\u001b[1;32m----> 7\u001b[0m accuracy \u001b[38;5;241m=\u001b[39m accuracy_score(y_test, \u001b[43my_pred\u001b[49m)\n\u001b[0;32m      8\u001b[0m precision \u001b[38;5;241m=\u001b[39m precision_score(y_test, y_pred)\n\u001b[0;32m      9\u001b[0m recall \u001b[38;5;241m=\u001b[39m recall_score(y_test, y_pred)\n",
      "\u001b[1;31mNameError\u001b[0m: name 'y_pred' is not defined"
     ]
    }
   ],
   "source": [
    "from sklearn.metrics import accuracy_score, precision_score, recall_score, f1_score, roc_auc_score, confusion_matrix\n",
    "from sklearn.metrics import mean_absolute_error, mean_squared_error, mean_absolute_percentage_error, r2_score, explained_variance_score\n",
    "\n",
    "import numpy as np\n",
    "\n",
    "# Accuracy, Precision, Recall, F1-Score, AUC\n",
    "accuracy = accuracy_score(y_test, y_pred)\n",
    "precision = precision_score(y_test, y_pred)\n",
    "recall = recall_score(y_test, y_pred)\n",
    "f1 = f1_score(y_test, y_pred)\n",
    "auc = roc_auc_score(y_test, y_pred)\n",
    "conf_matrix = confusion_matrix(y_test, y_pred)\n",
    "\n",
    "# Mean Absolute Error (MAE), Mean Squared Error (MSE), Root Mean Squared Error (RMSE)\n",
    "mae = mean_absolute_error(y_test, y_pred)\n",
    "mse = mean_squared_error(y_test, y_pred)\n",
    "rmse = np.sqrt(mse)\n",
    "\n",
    "# Mean Absolute Percentage Error (MAPE) and Systematic Mean Absolute Percentage Error (SMAPE)\n",
    "mape = mean_absolute_percentage_error(y_test, y_pred)\n",
    "\n",
    "# SMAPE formula: 100 * mean(2 * abs(y_pred - y_test) / (abs(y_pred) + abs(y_test)))\n",
    "epsilon = 1e-10  # Small constant to avoid division by zero\n",
    "smape = 100 * np.mean(2 * np.abs(y_pred - y_test) / (np.abs(y_pred) + np.abs(y_test) + epsilon))\n",
    "#smape = 100 * np.mean(2 * np.abs(y_pred - y_test) / (np.abs(y_pred) + np.abs(y_test)))\n",
    "\n",
    "# Explained Variance Score and R^2 Score\n",
    "explained_var = explained_variance_score(y_test, y_pred)\n",
    "r2 = r2_score(y_test, y_pred)\n",
    "\n",
    "# Mean Bias Deviation (MBD)\n",
    "mbd = np.mean(y_pred - y_test)\n",
    "\n",
    "# Display the results\n",
    "print(f\"Accuracy: {accuracy:.2f}\")\n",
    "print(f\"Precision: {precision:.2f}\")\n",
    "print(f\"Recall: {recall:.2f}\")\n",
    "print(f\"F1-Score: {f1:.2f}\")\n",
    "print(f\"AUC: {auc:.2f}\")\n",
    "print(\"Confusion Matrix:\")\n",
    "print(conf_matrix)\n",
    "print(f\"Mean Absolute Error (MAE): {mae:.2f}\")\n",
    "print(f\"Mean Squared Error (MSE): {mse:.2f}\")\n",
    "print(f\"Root Mean Squared Error (RMSE): {rmse:.2f}\")\n",
    "print(f\"Mean Absolute Percentage Error (MAPE): {mape:.2f}\")\n",
    "print(f\"Systematic Mean Absolute Percentage Error (SMAPE): {smape:.2f}\")\n",
    "print(f\"Explained Variance Score: {explained_var:.2f}\")\n",
    "print(f\"R^2 Score: {r2:.2f}\")\n",
    "print(f\"Mean Bias Deviation (MBD): {mbd:.2f}\")\n"
   ]
  },
  {
   "cell_type": "code",
   "execution_count": null,
   "id": "c36a0e85-b828-4f38-8ef6-f184e0984769",
   "metadata": {},
   "outputs": [],
   "source": []
  }
 ],
 "metadata": {
  "kernelspec": {
   "display_name": "Python 3 (ipykernel)",
   "language": "python",
   "name": "python3"
  },
  "language_info": {
   "codemirror_mode": {
    "name": "ipython",
    "version": 3
   },
   "file_extension": ".py",
   "mimetype": "text/x-python",
   "name": "python",
   "nbconvert_exporter": "python",
   "pygments_lexer": "ipython3",
   "version": "3.13.1"
  }
 },
 "nbformat": 4,
 "nbformat_minor": 5
}
