{
 "cells": [
  {
   "cell_type": "code",
   "execution_count": 8,
   "id": "638652b5-8ca9-4488-9270-64eefb626a21",
   "metadata": {},
   "outputs": [
    {
     "name": "stdout",
     "output_type": "stream",
     "text": [
      "Predicted class: 0\n"
     ]
    }
   ],
   "source": [
    "import os\n",
    "import numpy as np\n",
    "from PIL import Image\n",
    "import joblib\n",
    "\n",
    "# Load the saved model and scaler\n",
    "logistic_model = joblib.load('logistic_regression_classifier.pkl')\n",
    "scaler = joblib.load('scaler.pkl')\n",
    "\n",
    "# Path to the new test image\n",
    "test_image_path = r'D:\\AI Algorithm\\cucumber\\test_image.jpg'\n",
    "\n",
    "if not os.path.exists(test_image_path):\n",
    "    print(f\"Error: The file '{test_image_path}' was not found.\")\n",
    "else:\n",
    "    try:\n",
    "        # Define the image size (same as used during training)\n",
    "        image_size = (64, 64)  # Replace with your actual image size if different\n",
    "        \n",
    "        # Load and preprocess the test image\n",
    "        img = Image.open(test_image_path).convert('RGB')\n",
    "        img = img.resize(image_size)\n",
    "        img_array = np.array(img).reshape(1, -1)  # Flatten the image\n",
    "        \n",
    "        # Standardize the test image using the saved scaler\n",
    "        img_array = scaler.transform(img_array)\n",
    "        \n",
    "        # Predict the class\n",
    "        predicted_class = logistic_model.predict(img_array)[0]\n",
    "        \n",
    "        # Show the prediction result\n",
    "        print(f\"Predicted class: {predicted_class}\")\n",
    "    \n",
    "    except Exception as e:\n",
    "        print(f\"Error loading or processing image: {e}\")\n"
   ]
  },
  {
   "cell_type": "code",
   "execution_count": null,
   "id": "0dedd4a5-5a4f-45b7-97bb-634faf55034a",
   "metadata": {},
   "outputs": [],
   "source": []
  }
 ],
 "metadata": {
  "kernelspec": {
   "display_name": "Python 3 (ipykernel)",
   "language": "python",
   "name": "python3"
  },
  "language_info": {
   "codemirror_mode": {
    "name": "ipython",
    "version": 3
   },
   "file_extension": ".py",
   "mimetype": "text/x-python",
   "name": "python",
   "nbconvert_exporter": "python",
   "pygments_lexer": "ipython3",
   "version": "3.13.1"
  }
 },
 "nbformat": 4,
 "nbformat_minor": 5
}
